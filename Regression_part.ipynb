{
  "nbformat": 4,
  "nbformat_minor": 0,
  "metadata": {
    "colab": {
      "name": "Untitled1.ipynb",
      "provenance": [],
      "collapsed_sections": []
    },
    "kernelspec": {
      "name": "python3",
      "display_name": "Python 3"
    }
  },
  "cells": [
    {
      "cell_type": "code",
      "metadata": {
        "id": "AGua9bF8-Q8i",
        "colab_type": "code",
        "colab": {
          "base_uri": "https://localhost:8080/",
          "height": 122
        },
        "outputId": "0afa2155-7809-46f3-df86-a32094f43b24"
      },
      "source": [
        "# To pull data from google drive\n",
        "import pandas as pd\n",
        "from google.colab import drive\n",
        "drive.mount('/content/drive', force_remount=True)"
      ],
      "execution_count": 1,
      "outputs": [
        {
          "output_type": "stream",
          "text": [
            "Go to this URL in a browser: https://accounts.google.com/o/oauth2/auth?client_id=947318989803-6bn6qk8qdgf4n4g3pfee6491hc0brc4i.apps.googleusercontent.com&redirect_uri=urn%3aietf%3awg%3aoauth%3a2.0%3aoob&scope=email%20https%3a%2f%2fwww.googleapis.com%2fauth%2fdocs.test%20https%3a%2f%2fwww.googleapis.com%2fauth%2fdrive%20https%3a%2f%2fwww.googleapis.com%2fauth%2fdrive.photos.readonly%20https%3a%2f%2fwww.googleapis.com%2fauth%2fpeopleapi.readonly&response_type=code\n",
            "\n",
            "Enter your authorization code:\n",
            "··········\n",
            "Mounted at /content/drive\n"
          ],
          "name": "stdout"
        }
      ]
    },
    {
      "cell_type": "code",
      "metadata": {
        "id": "vwxJuz2E3QVU",
        "colab_type": "code",
        "colab": {
          "base_uri": "https://localhost:8080/",
          "height": 204
        },
        "outputId": "b9233773-d726-4409-c61c-19b587fb1816"
      },
      "source": [
        "# to upload the Corpus \n",
        "corpus = pd.read_csv('/content/drive/My Drive/Colab Notebooks/EIB_Data/corpus.csv', header= None, skiprows=1, names= ['Company name', 'Text'])\n",
        "corpus.head()"
      ],
      "execution_count": 2,
      "outputs": [
        {
          "output_type": "execute_result",
          "data": {
            "text/html": [
              "<div>\n",
              "<style scoped>\n",
              "    .dataframe tbody tr th:only-of-type {\n",
              "        vertical-align: middle;\n",
              "    }\n",
              "\n",
              "    .dataframe tbody tr th {\n",
              "        vertical-align: top;\n",
              "    }\n",
              "\n",
              "    .dataframe thead th {\n",
              "        text-align: right;\n",
              "    }\n",
              "</style>\n",
              "<table border=\"1\" class=\"dataframe\">\n",
              "  <thead>\n",
              "    <tr style=\"text-align: right;\">\n",
              "      <th></th>\n",
              "      <th>Company name</th>\n",
              "      <th>Text</th>\n",
              "    </tr>\n",
              "  </thead>\n",
              "  <tbody>\n",
              "    <tr>\n",
              "      <th>0</th>\n",
              "      <td>NYSE_BTE</td>\n",
              "      <td>eagl fordlloydminsterpeac rivervikingduvernayc...</td>\n",
              "    </tr>\n",
              "    <tr>\n",
              "      <th>1</th>\n",
              "      <td>TSX_CCL.BCA</td>\n",
              "      <td>annual letter to shareholdersn guillet directo...</td>\n",
              "    </tr>\n",
              "    <tr>\n",
              "      <th>2</th>\n",
              "      <td>ASX_ABC</td>\n",
              "      <td>adelaid brighton ltd annual report on energi e...</td>\n",
              "    </tr>\n",
              "    <tr>\n",
              "      <th>3</th>\n",
              "      <td>NYSE_AKS</td>\n",
              "      <td>ak steel annual report and form messag from ro...</td>\n",
              "    </tr>\n",
              "    <tr>\n",
              "      <th>4</th>\n",
              "      <td>NYSE_HOME</td>\n",
              "      <td>govern regul we are subject to labor and emplo...</td>\n",
              "    </tr>\n",
              "  </tbody>\n",
              "</table>\n",
              "</div>"
            ],
            "text/plain": [
              "  Company name                                               Text\n",
              "0     NYSE_BTE  eagl fordlloydminsterpeac rivervikingduvernayc...\n",
              "1  TSX_CCL.BCA  annual letter to shareholdersn guillet directo...\n",
              "2      ASX_ABC  adelaid brighton ltd annual report on energi e...\n",
              "3     NYSE_AKS  ak steel annual report and form messag from ro...\n",
              "4    NYSE_HOME  govern regul we are subject to labor and emplo..."
            ]
          },
          "metadata": {
            "tags": []
          },
          "execution_count": 2
        }
      ]
    },
    {
      "cell_type": "code",
      "metadata": {
        "id": "GS7Nm99iB0we",
        "colab_type": "code",
        "colab": {
          "base_uri": "https://localhost:8080/",
          "height": 419
        },
        "outputId": "58e87322-030c-4cd6-9a39-c20d11e2f254"
      },
      "source": [
        "# to upload Bloomberg scores \n",
        "scores = pd.read_csv('/content/drive/My Drive/Colab Notebooks/EIB_Data/BB_Scores.csv')\n",
        "scores"
      ],
      "execution_count": 3,
      "outputs": [
        {
          "output_type": "execute_result",
          "data": {
            "text/html": [
              "<div>\n",
              "<style scoped>\n",
              "    .dataframe tbody tr th:only-of-type {\n",
              "        vertical-align: middle;\n",
              "    }\n",
              "\n",
              "    .dataframe tbody tr th {\n",
              "        vertical-align: top;\n",
              "    }\n",
              "\n",
              "    .dataframe thead th {\n",
              "        text-align: right;\n",
              "    }\n",
              "</style>\n",
              "<table border=\"1\" class=\"dataframe\">\n",
              "  <thead>\n",
              "    <tr style=\"text-align: right;\">\n",
              "      <th></th>\n",
              "      <th>Name</th>\n",
              "      <th>ENVIRON_DISCLOSURE_SCORE</th>\n",
              "      <th>Company name</th>\n",
              "    </tr>\n",
              "  </thead>\n",
              "  <tbody>\n",
              "    <tr>\n",
              "      <th>0</th>\n",
              "      <td>A UN</td>\n",
              "      <td>NaN</td>\n",
              "      <td>Agilent Technologies Inc</td>\n",
              "    </tr>\n",
              "    <tr>\n",
              "      <th>1</th>\n",
              "      <td>AAL UW</td>\n",
              "      <td>NaN</td>\n",
              "      <td>American Airlines Group Inc</td>\n",
              "    </tr>\n",
              "    <tr>\n",
              "      <th>2</th>\n",
              "      <td>AAP UN</td>\n",
              "      <td>22.480620</td>\n",
              "      <td>Advance Auto Parts Inc</td>\n",
              "    </tr>\n",
              "    <tr>\n",
              "      <th>3</th>\n",
              "      <td>AAPL UW</td>\n",
              "      <td>NaN</td>\n",
              "      <td>Apple Inc</td>\n",
              "    </tr>\n",
              "    <tr>\n",
              "      <th>4</th>\n",
              "      <td>ABBV UN</td>\n",
              "      <td>NaN</td>\n",
              "      <td>AbbVie Inc</td>\n",
              "    </tr>\n",
              "    <tr>\n",
              "      <th>...</th>\n",
              "      <td>...</td>\n",
              "      <td>...</td>\n",
              "      <td>...</td>\n",
              "    </tr>\n",
              "    <tr>\n",
              "      <th>3822</th>\n",
              "      <td>Z UW</td>\n",
              "      <td>NaN</td>\n",
              "      <td>Zillow Group Inc</td>\n",
              "    </tr>\n",
              "    <tr>\n",
              "      <th>3823</th>\n",
              "      <td>ZBH UN</td>\n",
              "      <td>NaN</td>\n",
              "      <td>Zimmer Biomet Holdings Inc</td>\n",
              "    </tr>\n",
              "    <tr>\n",
              "      <th>3824</th>\n",
              "      <td>ZG UW</td>\n",
              "      <td>NaN</td>\n",
              "      <td>Zillow Group Inc</td>\n",
              "    </tr>\n",
              "    <tr>\n",
              "      <th>3825</th>\n",
              "      <td>ZION UW</td>\n",
              "      <td>7.142857</td>\n",
              "      <td>Zions Bancorp NA</td>\n",
              "    </tr>\n",
              "    <tr>\n",
              "      <th>3826</th>\n",
              "      <td>ZNGA UW</td>\n",
              "      <td>NaN</td>\n",
              "      <td>Zynga Inc</td>\n",
              "    </tr>\n",
              "  </tbody>\n",
              "</table>\n",
              "<p>3827 rows × 3 columns</p>\n",
              "</div>"
            ],
            "text/plain": [
              "         Name  ENVIRON_DISCLOSURE_SCORE                 Company name\n",
              "0        A UN                       NaN     Agilent Technologies Inc\n",
              "1      AAL UW                       NaN  American Airlines Group Inc\n",
              "2      AAP UN                 22.480620       Advance Auto Parts Inc\n",
              "3     AAPL UW                       NaN                    Apple Inc\n",
              "4     ABBV UN                       NaN                   AbbVie Inc\n",
              "...       ...                       ...                          ...\n",
              "3822     Z UW                       NaN             Zillow Group Inc\n",
              "3823   ZBH UN                       NaN   Zimmer Biomet Holdings Inc\n",
              "3824    ZG UW                       NaN             Zillow Group Inc\n",
              "3825  ZION UW                  7.142857             Zions Bancorp NA\n",
              "3826  ZNGA UW                       NaN                    Zynga Inc\n",
              "\n",
              "[3827 rows x 3 columns]"
            ]
          },
          "metadata": {
            "tags": []
          },
          "execution_count": 3
        }
      ]
    },
    {
      "cell_type": "code",
      "metadata": {
        "id": "ReEN2MlyCQR8",
        "colab_type": "code",
        "colab": {
          "base_uri": "https://localhost:8080/",
          "height": 419
        },
        "outputId": "d3b82273-6de3-4656-991d-06c43c815431"
      },
      "source": [
        "# inner join between the corpus & the BB scores \n",
        "df = pd.merge(corpus, scores, on=['Company name'], how='inner')\n",
        "df"
      ],
      "execution_count": 4,
      "outputs": [
        {
          "output_type": "execute_result",
          "data": {
            "text/html": [
              "<div>\n",
              "<style scoped>\n",
              "    .dataframe tbody tr th:only-of-type {\n",
              "        vertical-align: middle;\n",
              "    }\n",
              "\n",
              "    .dataframe tbody tr th {\n",
              "        vertical-align: top;\n",
              "    }\n",
              "\n",
              "    .dataframe thead th {\n",
              "        text-align: right;\n",
              "    }\n",
              "</style>\n",
              "<table border=\"1\" class=\"dataframe\">\n",
              "  <thead>\n",
              "    <tr style=\"text-align: right;\">\n",
              "      <th></th>\n",
              "      <th>Company name</th>\n",
              "      <th>Text</th>\n",
              "      <th>Name</th>\n",
              "      <th>ENVIRON_DISCLOSURE_SCORE</th>\n",
              "    </tr>\n",
              "  </thead>\n",
              "  <tbody>\n",
              "    <tr>\n",
              "      <th>0</th>\n",
              "      <td>Edison International</td>\n",
              "      <td>children servic social care servic for childre...</td>\n",
              "      <td>EIX UN</td>\n",
              "      <td>37.241379</td>\n",
              "    </tr>\n",
              "    <tr>\n",
              "      <th>1</th>\n",
              "      <td>Edison International</td>\n",
              "      <td>children servic social care servic for childre...</td>\n",
              "      <td>EIX UN</td>\n",
              "      <td>37.241379</td>\n",
              "    </tr>\n",
              "    <tr>\n",
              "      <th>2</th>\n",
              "      <td>Edison International</td>\n",
              "      <td>dear sharehold the alli team deliv except fina...</td>\n",
              "      <td>EIX UN</td>\n",
              "      <td>37.241379</td>\n",
              "    </tr>\n",
              "    <tr>\n",
              "      <th>3</th>\n",
              "      <td>Edison International</td>\n",
              "      <td>dear sharehold the alli team deliv except fina...</td>\n",
              "      <td>EIX UN</td>\n",
              "      <td>37.241379</td>\n",
              "    </tr>\n",
              "    <tr>\n",
              "      <th>4</th>\n",
              "      <td>Edison International</td>\n",
              "      <td>NaN</td>\n",
              "      <td>EIX UN</td>\n",
              "      <td>37.241379</td>\n",
              "    </tr>\n",
              "    <tr>\n",
              "      <th>...</th>\n",
              "      <td>...</td>\n",
              "      <td>...</td>\n",
              "      <td>...</td>\n",
              "      <td>...</td>\n",
              "    </tr>\n",
              "    <tr>\n",
              "      <th>652</th>\n",
              "      <td>Belimo Holding AG</td>\n",
              "      <td>sustain report our purposeto bring peopl and r...</td>\n",
              "      <td>BEAN SE</td>\n",
              "      <td>14.728682</td>\n",
              "    </tr>\n",
              "    <tr>\n",
              "      <th>653</th>\n",
              "      <td>Fiat Chrysler Automobiles NV</td>\n",
              "      <td>registr document getlink se getlink registr do...</td>\n",
              "      <td>FCA IM</td>\n",
              "      <td>65.891473</td>\n",
              "    </tr>\n",
              "    <tr>\n",
              "      <th>654</th>\n",
              "      <td>Barry Callebaut AG</td>\n",
              "      <td>gri report for sustain valu creation introduct...</td>\n",
              "      <td>BARN SE</td>\n",
              "      <td>24.031008</td>\n",
              "    </tr>\n",
              "    <tr>\n",
              "      <th>655</th>\n",
              "      <td>Partners Group Holding AG</td>\n",
              "      <td>sustain respons perform addendum to the annual...</td>\n",
              "      <td>PGHN SE</td>\n",
              "      <td>16.071429</td>\n",
              "    </tr>\n",
              "    <tr>\n",
              "      <th>656</th>\n",
              "      <td>Fortum Oyj</td>\n",
              "      <td>consolid report drawn up pursuant to articl an...</td>\n",
              "      <td>FORTUM FH</td>\n",
              "      <td>66.666667</td>\n",
              "    </tr>\n",
              "  </tbody>\n",
              "</table>\n",
              "<p>657 rows × 4 columns</p>\n",
              "</div>"
            ],
            "text/plain": [
              "                     Company name  ... ENVIRON_DISCLOSURE_SCORE\n",
              "0            Edison International  ...                37.241379\n",
              "1            Edison International  ...                37.241379\n",
              "2            Edison International  ...                37.241379\n",
              "3            Edison International  ...                37.241379\n",
              "4            Edison International  ...                37.241379\n",
              "..                            ...  ...                      ...\n",
              "652             Belimo Holding AG  ...                14.728682\n",
              "653  Fiat Chrysler Automobiles NV  ...                65.891473\n",
              "654            Barry Callebaut AG  ...                24.031008\n",
              "655     Partners Group Holding AG  ...                16.071429\n",
              "656                    Fortum Oyj  ...                66.666667\n",
              "\n",
              "[657 rows x 4 columns]"
            ]
          },
          "metadata": {
            "tags": []
          },
          "execution_count": 4
        }
      ]
    },
    {
      "cell_type": "code",
      "metadata": {
        "id": "Xb-5ucqxHZal",
        "colab_type": "code",
        "colab": {
          "base_uri": "https://localhost:8080/",
          "height": 419
        },
        "outputId": "eedc6497-bb1d-49cd-bb6a-c77b78153212"
      },
      "source": [
        "# To remove duplicates:\n",
        "df = df.drop_duplicates('Company name')\n",
        "df"
      ],
      "execution_count": 5,
      "outputs": [
        {
          "output_type": "execute_result",
          "data": {
            "text/html": [
              "<div>\n",
              "<style scoped>\n",
              "    .dataframe tbody tr th:only-of-type {\n",
              "        vertical-align: middle;\n",
              "    }\n",
              "\n",
              "    .dataframe tbody tr th {\n",
              "        vertical-align: top;\n",
              "    }\n",
              "\n",
              "    .dataframe thead th {\n",
              "        text-align: right;\n",
              "    }\n",
              "</style>\n",
              "<table border=\"1\" class=\"dataframe\">\n",
              "  <thead>\n",
              "    <tr style=\"text-align: right;\">\n",
              "      <th></th>\n",
              "      <th>Company name</th>\n",
              "      <th>Text</th>\n",
              "      <th>Name</th>\n",
              "      <th>ENVIRON_DISCLOSURE_SCORE</th>\n",
              "    </tr>\n",
              "  </thead>\n",
              "  <tbody>\n",
              "    <tr>\n",
              "      <th>0</th>\n",
              "      <td>Edison International</td>\n",
              "      <td>children servic social care servic for childre...</td>\n",
              "      <td>EIX UN</td>\n",
              "      <td>37.241379</td>\n",
              "    </tr>\n",
              "    <tr>\n",
              "      <th>8</th>\n",
              "      <td>Phillips 66</td>\n",
              "      <td>welcom to australian ethic invest australian e...</td>\n",
              "      <td>PSX UN</td>\n",
              "      <td>37.984496</td>\n",
              "    </tr>\n",
              "    <tr>\n",
              "      <th>16</th>\n",
              "      <td>Sempra Energy</td>\n",
              "      <td>ﬁa lifetim of financi secur requir smart plan ...</td>\n",
              "      <td>SRE UN</td>\n",
              "      <td>46.206897</td>\n",
              "    </tr>\n",
              "    <tr>\n",
              "      <th>24</th>\n",
              "      <td>Weingarten Realty Investors</td>\n",
              "      <td>annual report expertis around the world and ac...</td>\n",
              "      <td>WRI UN</td>\n",
              "      <td>1.550388</td>\n",
              "    </tr>\n",
              "    <tr>\n",
              "      <th>25</th>\n",
              "      <td>Freeport-McMoRan Inc</td>\n",
              "      <td>dear fellow sharehold goodby zombi hello what ...</td>\n",
              "      <td>FCX UN</td>\n",
              "      <td>51.162791</td>\n",
              "    </tr>\n",
              "    <tr>\n",
              "      <th>...</th>\n",
              "      <td>...</td>\n",
              "      <td>...</td>\n",
              "      <td>...</td>\n",
              "      <td>...</td>\n",
              "    </tr>\n",
              "    <tr>\n",
              "      <th>652</th>\n",
              "      <td>Belimo Holding AG</td>\n",
              "      <td>sustain report our purposeto bring peopl and r...</td>\n",
              "      <td>BEAN SE</td>\n",
              "      <td>14.728682</td>\n",
              "    </tr>\n",
              "    <tr>\n",
              "      <th>653</th>\n",
              "      <td>Fiat Chrysler Automobiles NV</td>\n",
              "      <td>registr document getlink se getlink registr do...</td>\n",
              "      <td>FCA IM</td>\n",
              "      <td>65.891473</td>\n",
              "    </tr>\n",
              "    <tr>\n",
              "      <th>654</th>\n",
              "      <td>Barry Callebaut AG</td>\n",
              "      <td>gri report for sustain valu creation introduct...</td>\n",
              "      <td>BARN SE</td>\n",
              "      <td>24.031008</td>\n",
              "    </tr>\n",
              "    <tr>\n",
              "      <th>655</th>\n",
              "      <td>Partners Group Holding AG</td>\n",
              "      <td>sustain respons perform addendum to the annual...</td>\n",
              "      <td>PGHN SE</td>\n",
              "      <td>16.071429</td>\n",
              "    </tr>\n",
              "    <tr>\n",
              "      <th>656</th>\n",
              "      <td>Fortum Oyj</td>\n",
              "      <td>consolid report drawn up pursuant to articl an...</td>\n",
              "      <td>FORTUM FH</td>\n",
              "      <td>66.666667</td>\n",
              "    </tr>\n",
              "  </tbody>\n",
              "</table>\n",
              "<p>499 rows × 4 columns</p>\n",
              "</div>"
            ],
            "text/plain": [
              "                     Company name  ... ENVIRON_DISCLOSURE_SCORE\n",
              "0            Edison International  ...                37.241379\n",
              "8                     Phillips 66  ...                37.984496\n",
              "16                  Sempra Energy  ...                46.206897\n",
              "24    Weingarten Realty Investors  ...                 1.550388\n",
              "25           Freeport-McMoRan Inc  ...                51.162791\n",
              "..                            ...  ...                      ...\n",
              "652             Belimo Holding AG  ...                14.728682\n",
              "653  Fiat Chrysler Automobiles NV  ...                65.891473\n",
              "654            Barry Callebaut AG  ...                24.031008\n",
              "655     Partners Group Holding AG  ...                16.071429\n",
              "656                    Fortum Oyj  ...                66.666667\n",
              "\n",
              "[499 rows x 4 columns]"
            ]
          },
          "metadata": {
            "tags": []
          },
          "execution_count": 5
        }
      ]
    },
    {
      "cell_type": "code",
      "metadata": {
        "id": "VQCrCvkMKhrc",
        "colab_type": "code",
        "colab": {
          "base_uri": "https://localhost:8080/",
          "height": 119
        },
        "outputId": "e27fae9e-2abc-425b-baf7-941a096e4a70"
      },
      "source": [
        "# Feature Extraction\n",
        "from sklearn.feature_extraction.text import CountVectorizer\n",
        "import numpy as np\n",
        "\n",
        "# Set that word has to appear at least 5 times to be in vocab\n",
        "min_df = 5\n",
        "max_features = 1000\n",
        "countVec = CountVectorizer(min_df = min_df, max_features = max_features )\n",
        "# Learn vocabulary from train set\n",
        "countVec.fit(df['Text'].values.astype('U'))"
      ],
      "execution_count": 6,
      "outputs": [
        {
          "output_type": "execute_result",
          "data": {
            "text/plain": [
              "CountVectorizer(analyzer='word', binary=False, decode_error='strict',\n",
              "                dtype=<class 'numpy.int64'>, encoding='utf-8', input='content',\n",
              "                lowercase=True, max_df=1.0, max_features=1000, min_df=5,\n",
              "                ngram_range=(1, 1), preprocessor=None, stop_words=None,\n",
              "                strip_accents=None, token_pattern='(?u)\\\\b\\\\w\\\\w+\\\\b',\n",
              "                tokenizer=None, vocabulary=None)"
            ]
          },
          "metadata": {
            "tags": []
          },
          "execution_count": 6
        }
      ]
    },
    {
      "cell_type": "code",
      "metadata": {
        "id": "fYNubQ-0Kh38",
        "colab_type": "code",
        "colab": {}
      },
      "source": [
        "# Transform list of review to matrix of bag-of-word vectors\n",
        "trainX = countVec.transform(df['Text'].values.astype('U'))"
      ],
      "execution_count": 7,
      "outputs": []
    },
    {
      "cell_type": "code",
      "metadata": {
        "id": "kuhGPqOWKiAv",
        "colab_type": "code",
        "colab": {
          "base_uri": "https://localhost:8080/",
          "height": 119
        },
        "outputId": "290932e5-7205-4b0b-ea92-0b453dddd1ad"
      },
      "source": [
        "import numpy as np\n",
        "print(\"Shape of Train X {}\\n\".format(trainX.shape))\n",
        "print(\"Sample of the vocab:\\n {}\".format(np.random.choice(countVec.get_feature_names(), 20)))"
      ],
      "execution_count": 8,
      "outputs": [
        {
          "output_type": "stream",
          "text": [
            "Shape of Train X (499, 1000)\n",
            "\n",
            "Sample of the vocab:\n",
            " ['johnson' 'step' 'principl' 'monitor' 'consid' 'indirect' 'cover'\n",
            " 'consumpt' 've' 'recycl' 'region' 'signific' 'stakehold' 'carri' 'come'\n",
            " 'campaign' 'claim' 'januari' 'over' 'firm']\n"
          ],
          "name": "stdout"
        }
      ]
    },
    {
      "cell_type": "code",
      "metadata": {
        "id": "gmpy4UOiKiDp",
        "colab_type": "code",
        "colab": {
          "base_uri": "https://localhost:8080/",
          "height": 884
        },
        "outputId": "c84a0fc3-f712-4477-8988-9fe515e4ed46"
      },
      "source": [
        "print(trainX)"
      ],
      "execution_count": 9,
      "outputs": [
        {
          "output_type": "stream",
          "text": [
            "  (0, 0)\t1\n",
            "  (0, 1)\t1\n",
            "  (0, 2)\t9\n",
            "  (0, 3)\t3\n",
            "  (0, 4)\t2\n",
            "  (0, 5)\t5\n",
            "  (0, 6)\t24\n",
            "  (0, 7)\t12\n",
            "  (0, 8)\t2\n",
            "  (0, 9)\t4\n",
            "  (0, 10)\t18\n",
            "  (0, 11)\t4\n",
            "  (0, 12)\t1\n",
            "  (0, 13)\t4\n",
            "  (0, 14)\t2\n",
            "  (0, 15)\t3\n",
            "  (0, 16)\t2\n",
            "  (0, 17)\t3\n",
            "  (0, 19)\t1\n",
            "  (0, 20)\t1\n",
            "  (0, 21)\t1\n",
            "  (0, 23)\t2\n",
            "  (0, 25)\t4\n",
            "  (0, 26)\t5\n",
            "  (0, 27)\t4\n",
            "  :\t:\n",
            "  (498, 975)\t53\n",
            "  (498, 976)\t70\n",
            "  (498, 977)\t11\n",
            "  (498, 978)\t714\n",
            "  (498, 979)\t90\n",
            "  (498, 980)\t90\n",
            "  (498, 981)\t13\n",
            "  (498, 982)\t260\n",
            "  (498, 983)\t4\n",
            "  (498, 984)\t1490\n",
            "  (498, 985)\t122\n",
            "  (498, 986)\t33\n",
            "  (498, 987)\t30\n",
            "  (498, 988)\t243\n",
            "  (498, 989)\t197\n",
            "  (498, 990)\t47\n",
            "  (498, 991)\t25\n",
            "  (498, 992)\t24\n",
            "  (498, 993)\t3\n",
            "  (498, 994)\t21\n",
            "  (498, 995)\t388\n",
            "  (498, 996)\t12\n",
            "  (498, 997)\t9\n",
            "  (498, 998)\t2\n",
            "  (498, 999)\t30\n"
          ],
          "name": "stdout"
        }
      ]
    },
    {
      "cell_type": "code",
      "metadata": {
        "id": "xJIdGcTSNS5a",
        "colab_type": "code",
        "colab": {}
      },
      "source": [
        "trainY = df['ENVIRON_DISCLOSURE_SCORE']"
      ],
      "execution_count": 10,
      "outputs": []
    },
    {
      "cell_type": "code",
      "metadata": {
        "id": "huuZjWKlNTMD",
        "colab_type": "code",
        "colab": {
          "base_uri": "https://localhost:8080/",
          "height": 221
        },
        "outputId": "44a754c7-800d-4162-c5b8-5c4f5907b739"
      },
      "source": [
        "trainY"
      ],
      "execution_count": 11,
      "outputs": [
        {
          "output_type": "execute_result",
          "data": {
            "text/plain": [
              "0      37.241379\n",
              "8      37.984496\n",
              "16     46.206897\n",
              "24      1.550388\n",
              "25     51.162791\n",
              "         ...    \n",
              "652    14.728682\n",
              "653    65.891473\n",
              "654    24.031008\n",
              "655    16.071429\n",
              "656    66.666667\n",
              "Name: ENVIRON_DISCLOSURE_SCORE, Length: 499, dtype: float64"
            ]
          },
          "metadata": {
            "tags": []
          },
          "execution_count": 11
        }
      ]
    },
    {
      "cell_type": "code",
      "metadata": {
        "id": "cNGbOuA-bfql",
        "colab_type": "code",
        "colab": {
          "base_uri": "https://localhost:8080/",
          "height": 279
        },
        "outputId": "a1139f45-d00c-4cd6-dd09-9ff0e011c2fb"
      },
      "source": [
        "# the frequency distribution of BB scores \n",
        "import matplotlib.pyplot as plt\n",
        "plt.hist(trainY, bins=20)\n",
        "plt.xlabel('Bloomberg Scores')\n",
        "plt.ylabel('Frequency')\n",
        "plt.legend(['Bloomberg Scores']);"
      ],
      "execution_count": 24,
      "outputs": [
        {
          "output_type": "display_data",
          "data": {
            "image/png": "[encoded data removed]",
            "text/plain": [
              "<Figure size 432x288 with 1 Axes>"
            ]
          },
          "metadata": {
            "tags": [],
            "needs_background": "light"
          }
        }
      ]
    },
    {
      "cell_type": "code",
      "metadata": {
        "id": "pBKB52wyvw7G",
        "colab_type": "code",
        "colab": {}
      },
      "source": [
        "# Crearing training & testing sets\n",
        "train_x = trainX[0:399]\n",
        "train_y = trainY[0:399]\n",
        "test_x = trainX[400:499]\n",
        "test_y = trainY[400:499]\n"
      ],
      "execution_count": 12,
      "outputs": []
    },
    {
      "cell_type": "code",
      "metadata": {
        "id": "4BH12D8KOXOa",
        "colab_type": "code",
        "colab": {}
      },
      "source": [
        "#Linear Regression\n",
        "from sklearn import linear_model"
      ],
      "execution_count": 13,
      "outputs": []
    },
    {
      "cell_type": "code",
      "metadata": {
        "id": "wgIr2eRgOXYg",
        "colab_type": "code",
        "colab": {
          "base_uri": "https://localhost:8080/",
          "height": 34
        },
        "outputId": "f2f0df60-aa58-4ac5-a61c-3068f4205104"
      },
      "source": [
        "# Training\n",
        "regr = linear_model.LinearRegression()\n",
        "regr.fit(train_x, train_y)\n",
        "rSquared = regr.score(train_x, train_y)\n",
        "\n",
        "print(rSquared)"
      ],
      "execution_count": 14,
      "outputs": [
        {
          "output_type": "stream",
          "text": [
            "0.5049616082692112\n"
          ],
          "name": "stdout"
        }
      ]
    },
    {
      "cell_type": "code",
      "metadata": {
        "id": "3vv0Q3HXPFp-",
        "colab_type": "code",
        "colab": {
          "base_uri": "https://localhost:8080/",
          "height": 34
        },
        "outputId": "e287c0ba-3abc-45bb-c8a1-2be9b884f0f4"
      },
      "source": [
        "#MSE\n",
        "MSE = np.mean((regr.predict(train_x) - train_y)**2)\n",
        "print(MSE)"
      ],
      "execution_count": 15,
      "outputs": [
        {
          "output_type": "stream",
          "text": [
            "112.51070780364977\n"
          ],
          "name": "stdout"
        }
      ]
    },
    {
      "cell_type": "code",
      "metadata": {
        "id": "Im0Od53Tx59-",
        "colab_type": "code",
        "colab": {
          "base_uri": "https://localhost:8080/",
          "height": 34
        },
        "outputId": "08cb4f07-1404-44fb-bfda-fdc44dc63657"
      },
      "source": [
        "# Testing:\n",
        "y_predicted = regr.predict(test_x)\n",
        "# MSE:\n",
        "MSE1 = np.mean((y_predicted- test_y)**2)\n",
        "print(MSE1)"
      ],
      "execution_count": 27,
      "outputs": [
        {
          "output_type": "stream",
          "text": [
            "45253.804765536\n"
          ],
          "name": "stdout"
        }
      ]
    },
    {
      "cell_type": "code",
      "metadata": {
        "id": "YJ2g2u3p4g9m",
        "colab_type": "code",
        "colab": {}
      },
      "source": [
        ""
      ],
      "execution_count": null,
      "outputs": []
    }
  ]
}